{
  "nbformat": 4,
  "nbformat_minor": 0,
  "metadata": {
    "colab": {
      "name": "K-MEANS Algorithm.ipynb",
      "provenance": [],
      "collapsed_sections": [],
      "authorship_tag": "ABX9TyNO7HVgmIBJvKZLeESubrae",
      "include_colab_link": true
    },
    "kernelspec": {
      "name": "python3",
      "display_name": "Python 3"
    },
    "language_info": {
      "name": "python"
    }
  },
  "cells": [
    {
      "cell_type": "markdown",
      "metadata": {
        "id": "view-in-github",
        "colab_type": "text"
      },
      "source": [
        "<a href=\"https://colab.research.google.com/github/andreysoas/Machine-Learning-Implementacoes/blob/main/K_MEANS_Algorithm.ipynb\" target=\"_parent\"><img src=\"https://colab.research.google.com/assets/colab-badge.svg\" alt=\"Open In Colab\"/></a>"
      ]
    },
    {
      "cell_type": "markdown",
      "source": [
        "Imports"
      ],
      "metadata": {
        "id": "BKeu4ByPIuP5"
      }
    },
    {
      "cell_type": "code",
      "execution_count": null,
      "metadata": {
        "id": "ZQMf2H4lPgUm"
      },
      "outputs": [],
      "source": [
        "import numpy as np\n",
        "import numpy.random as rd\n",
        "from random import sample\n",
        "import pandas as pd\n",
        "import matplotlib.pyplot as plt\n",
        "import seaborn as sns\n",
        "from sklearn import datasets\n",
        "from sklearn.cluster import KMeans"
      ]
    },
    {
      "cell_type": "markdown",
      "source": [
        "#IMPLEMENTATION OF K-MEANS"
      ],
      "metadata": {
        "id": "5iOvUS47tkCO"
      }
    },
    {
      "cell_type": "markdown",
      "source": [
        "Feature scaling / Mean Normalization"
      ],
      "metadata": {
        "id": "jEEbFoajdZhG"
      }
    },
    {
      "cell_type": "code",
      "source": [
        "def mean_normalization(X):\n",
        "\n",
        "  means = np.mean(X, axis=0)\n",
        "  stds = np.std(X, axis=0)\n",
        "  \n",
        "  X = X - means\n",
        "  X = X/stds\n",
        "\n",
        "  return X"
      ],
      "metadata": {
        "id": "rG2SVLYLdewv"
      },
      "execution_count": null,
      "outputs": []
    },
    {
      "cell_type": "markdown",
      "source": [
        "K-means"
      ],
      "metadata": {
        "id": "DCqhYZBIdfCO"
      }
    },
    {
      "cell_type": "code",
      "source": [
        "class dupla_struct:\n",
        "  def __init__(self,cl_i,distance):\n",
        "    self.cl_i = cl_i\n",
        "    self.distance = distance\n",
        "\n",
        "class k_means:\n",
        "  def __init__(self,X,K): #where X = dataset(mxn),K = number of clusters\n",
        "    self.K = K\n",
        "    self.X = X\n",
        "    self.m,self.n = X.shape # number of examples\n",
        "    self.centroids_labels = np.arange(0,self.K)\n",
        "    self.centroids = self.initialize_clusters_by_kplus()\n",
        "    self.x_clusters = [dupla_struct(-1,9999) for i in range(X.shape[0])] #clusters id inicialization\n",
        "\n",
        "  def initialize_clusters_default(self): #Random Inicialization\n",
        "    id_rd = sample([i for i in range(0,self.X.shape[0])],self.K)\n",
        "    to_return = []\n",
        "\n",
        "    for i in id_rd:\n",
        "      to_return.append(np.copy(self.X[i]))\n",
        "    \n",
        "    return np.array(to_return)\n",
        "\n",
        "  def initialize_clusters_by_kplus(self): #K++ Inicialization\n",
        "    center_initial = np.copy(self.X[rd.randint(0,self.m)])\n",
        "    centers_return = np.zeros((self.K,self.n))\n",
        "    centers_return[0,:] = center_initial\n",
        "\n",
        "    for i in range(self.K-1):\n",
        "      min_dists = np.zeros(self.m)\n",
        "      \n",
        "      for j in range(self.m):\n",
        "        min_dists[j] = self.find_min(j,i,centers_return)\n",
        "\n",
        "      sum_amostral = sum(min_dists)\n",
        "      selected_center = rd.choice(np.arange(0,self.m),p=min_dists/sum_amostral,size=1)[0]\n",
        "      centers_return[i+1,:] = np.copy(self.X[selected_center,:])\n",
        "\n",
        "    return centers_return\n",
        "\n",
        "  def find_min(self,j_,i_,centers_return):\n",
        "    minimum = 999999\n",
        "    for i in range(i_+1):\n",
        "      dist = sum((self.X[j_] - centers_return[i])**2)\n",
        "      if dist < minimum: minimum = dist\n",
        "\n",
        "    return minimum\n",
        "\n",
        "  def train_model(self):\n",
        "    while True:\n",
        "      if self.run_train_model(): break\n",
        "  \n",
        "  def run_train_model(self): \n",
        "    move_centroids = np.zeros(self.K)\n",
        "    centroid_save = np.zeros(self.X.shape[1])\n",
        "\n",
        "    for i in range(self.m):\n",
        "      for j in range(self.K):\n",
        "        dist = sum((self.X[i] - self.centroids[j])**2)\n",
        "        if dist < self.x_clusters[i].distance: \n",
        "          self.x_clusters[i].cl_i = j\n",
        "          self.x_clusters[i].distance = dist\n",
        "    \n",
        "    for i in range(self.K): \n",
        "      \n",
        "      for nothing in range(self.n):centroid_save[nothing] = self.centroids[i,nothing]\n",
        "      n_on_cluster = 0\n",
        "\n",
        "      self.centroids[i] = self.centroids[i] - self.centroids[i]\n",
        "      for j in range(self.m):\n",
        "        if self.x_clusters[j].cl_i == i:\n",
        "          n_on_cluster += 1\n",
        "          self.centroids[i]+=self.X[j]\n",
        "      \n",
        "      if n_on_cluster != 0:\n",
        "        self.centroids[i] = self.centroids[i]/n_on_cluster\n",
        "\n",
        "      if sum(self.centroids[i] - centroid_save) != 0:\n",
        "        move_centroids[i] = 1\n",
        "    print(move_centroids)\n",
        "    if 1 not in move_centroids: return True\n",
        "\n",
        "    '------------------------Plot of iteration---------------------' #2D\n",
        "    plt.figure()\n",
        "    plt.scatter(self.X[:,0],self.X[:,1],color='blue',marker='x')\n",
        "    plt.scatter(self.centroids[:,0],self.centroids[:,1],color='red')\n",
        "    plt.show()\n",
        "    '--------------------------------------------------------------'\n",
        "\n",
        "    return False\n"
      ],
      "metadata": {
        "id": "FQbIVD-iQBzI"
      },
      "execution_count": null,
      "outputs": []
    },
    {
      "cell_type": "markdown",
      "source": [
        "#Iris - intro example"
      ],
      "metadata": {
        "id": "yC0EWW4O4iuc"
      }
    },
    {
      "cell_type": "code",
      "source": [
        "iris = datasets.load_iris()\n",
        "cluster = KMeans(n_clusters = 3,algorithm='elkan') #3grupos Não gera ruído ( agrupa todos os elementos )\n",
        "cluster.fit(iris.data)"
      ],
      "metadata": {
        "colab": {
          "base_uri": "https://localhost:8080/"
        },
        "id": "1RIJ1tVVZgfj",
        "outputId": "c21b5bd4-2e1f-4995-d5cf-03867f419d20"
      },
      "execution_count": null,
      "outputs": [
        {
          "output_type": "execute_result",
          "data": {
            "text/plain": [
              "KMeans(algorithm='elkan', n_clusters=3)"
            ]
          },
          "metadata": {},
          "execution_count": 4
        }
      ]
    },
    {
      "cell_type": "code",
      "source": [
        "cluster.cluster_centers_"
      ],
      "metadata": {
        "colab": {
          "base_uri": "https://localhost:8080/"
        },
        "id": "WnjpZdDoZmzp",
        "outputId": "3a3ba18c-86f0-463e-b394-4c7f568eeba9"
      },
      "execution_count": null,
      "outputs": [
        {
          "output_type": "execute_result",
          "data": {
            "text/plain": [
              "array([[5.9016129 , 2.7483871 , 4.39354839, 1.43387097],\n",
              "       [5.006     , 3.428     , 1.462     , 0.246     ],\n",
              "       [6.85      , 3.07368421, 5.74210526, 2.07105263]])"
            ]
          },
          "metadata": {},
          "execution_count": 5
        }
      ]
    },
    {
      "cell_type": "code",
      "source": [
        "plt.rcParams['figure.figsize'] = (6,5)\n",
        "model = k_means(iris.data,3)\n",
        "model.train_model()"
      ],
      "metadata": {
        "colab": {
          "base_uri": "https://localhost:8080/",
          "height": 1000
        },
        "id": "4uTdNf0aZtJM",
        "outputId": "e6e77794-17ef-4964-ef06-963175ef4d09"
      },
      "execution_count": null,
      "outputs": [
        {
          "output_type": "stream",
          "name": "stdout",
          "text": [
            "[1. 1. 1.]\n"
          ]
        },
        {
          "output_type": "display_data",
          "data": {
            "text/plain": [
              "<Figure size 432x360 with 1 Axes>"
            ],
            "image/png": "[encoded data removed]"
          },
          "metadata": {
            "needs_background": "light"
          }
        },
        {
          "output_type": "stream",
          "name": "stdout",
          "text": [
            "[1. 0. 1.]\n"
          ]
        },
        {
          "output_type": "display_data",
          "data": {
            "text/plain": [
              "<Figure size 432x360 with 1 Axes>"
            ],
            "image/png": "[encoded data removed]"
          },
          "metadata": {
            "needs_background": "light"
          }
        },
        {
          "output_type": "stream",
          "name": "stdout",
          "text": [
            "[1. 0. 1.]\n"
          ]
        },
        {
          "output_type": "display_data",
          "data": {
            "text/plain": [
              "<Figure size 432x360 with 1 Axes>"
            ],
            "image/png": "[encoded data removed]"
          },
          "metadata": {
            "needs_background": "light"
          }
        },
        {
          "output_type": "stream",
          "name": "stdout",
          "text": [
            "[1. 0. 1.]\n"
          ]
        },
        {
          "output_type": "display_data",
          "data": {
            "text/plain": [
              "<Figure size 432x360 with 1 Axes>"
            ],
            "image/png": "[encoded data removed]"
          },
          "metadata": {
            "needs_background": "light"
          }
        },
        {
          "output_type": "stream",
          "name": "stdout",
          "text": [
            "[0. 0. 0.]\n"
          ]
        }
      ]
    },
    {
      "cell_type": "code",
      "source": [
        "model.centroids"
      ],
      "metadata": {
        "colab": {
          "base_uri": "https://localhost:8080/"
        },
        "id": "gKPbHQzaZ3ig",
        "outputId": "4bead56e-a79e-43a0-ed14-6377d01d402b"
      },
      "execution_count": null,
      "outputs": [
        {
          "output_type": "execute_result",
          "data": {
            "text/plain": [
              "array([[6.76956522, 3.03695652, 5.6       , 2.00869565],\n",
              "       [5.006     , 3.428     , 1.462     , 0.246     ],\n",
              "       [5.82962963, 2.73148148, 4.31481481, 1.39259259]])"
            ]
          },
          "metadata": {},
          "execution_count": 7
        }
      ]
    },
    {
      "cell_type": "code",
      "source": [
        "plt.rcParams['figure.figsize'] = (15,5)\n",
        "\n",
        "plt.figure()\n",
        "\n",
        "plt.subplots()\n",
        "\n",
        "plt.subplot(1,2,1)\n",
        "plt.scatter(iris.data[:50,0],iris.data[:50,1],marker='x',color='orange')\n",
        "plt.scatter(iris.data[50:100,0],iris.data[50:100,1],marker='x',color='blue')\n",
        "plt.scatter(iris.data[100:150,0],iris.data[100:150,1],marker='x',color='green')\n",
        "\n",
        "plt.scatter(model.centroids[:,0],model.centroids[:,1],color='red',label='Centroids')\n",
        "\n",
        "plt.title('My implementation')\n",
        "plt.legend()\n",
        "\n",
        "plt.subplot(1,2,2)\n",
        "plt.scatter(iris.data[:50,0],iris.data[:50,1],marker='x',color='orange')\n",
        "plt.scatter(iris.data[50:100,0],iris.data[50:100,1],marker='x',color='blue')\n",
        "plt.scatter(iris.data[100:150,0],iris.data[100:150,1],marker='x',color='green')\n",
        "\n",
        "plt.scatter(cluster.cluster_centers_[:,0],cluster.cluster_centers_[:,1],color='red',label='Centroids')\n",
        "\n",
        "plt.title('Scikit')\n",
        "plt.legend()\n",
        "\n",
        "plt.show()"
      ],
      "metadata": {
        "colab": {
          "base_uri": "https://localhost:8080/",
          "height": 345
        },
        "id": "pSJuPgzjxkxs",
        "outputId": "06856dc1-4267-48d5-c537-3c9d66efbe00"
      },
      "execution_count": null,
      "outputs": [
        {
          "output_type": "display_data",
          "data": {
            "text/plain": [
              "<Figure size 1080x360 with 0 Axes>"
            ]
          },
          "metadata": {}
        },
        {
          "output_type": "display_data",
          "data": {
            "text/plain": [
              "<Figure size 1080x360 with 2 Axes>"
            ],
            "image/png": "[encoded data removed]"
          },
          "metadata": {
            "needs_background": "light"
          }
        }
      ]
    },
    {
      "cell_type": "code",
      "source": [
        "a = []\n",
        "for i in range(model.m):\n",
        "  a.append(model.x_clusters[i].cl_i)\n",
        "\n",
        "np.unique(np.array(a),return_counts=True)"
      ],
      "metadata": {
        "colab": {
          "base_uri": "https://localhost:8080/"
        },
        "id": "016c86Ara2f8",
        "outputId": "fad0a702-8b17-4f9c-e858-c5df059c393a"
      },
      "execution_count": null,
      "outputs": [
        {
          "output_type": "execute_result",
          "data": {
            "text/plain": [
              "(array([0, 1, 2]), array([46, 50, 54]))"
            ]
          },
          "metadata": {},
          "execution_count": 9
        }
      ]
    },
    {
      "cell_type": "code",
      "source": [
        "np.unique(cluster.labels_,return_counts=True)"
      ],
      "metadata": {
        "colab": {
          "base_uri": "https://localhost:8080/"
        },
        "id": "jPPb6vaQm2Ns",
        "outputId": "0bc1e926-6cf2-450f-9df3-0c971d4514ae"
      },
      "execution_count": null,
      "outputs": [
        {
          "output_type": "execute_result",
          "data": {
            "text/plain": [
              "(array([0, 1, 2], dtype=int32), array([62, 50, 38]))"
            ]
          },
          "metadata": {},
          "execution_count": 10
        }
      ]
    },
    {
      "cell_type": "markdown",
      "source": [
        "3D PLOT"
      ],
      "metadata": {
        "id": "hY7AHQ5n5XyK"
      }
    },
    {
      "cell_type": "code",
      "source": [
        "iris.feature_names"
      ],
      "metadata": {
        "colab": {
          "base_uri": "https://localhost:8080/"
        },
        "id": "H_wEQV_-6V1J",
        "outputId": "f5f60dd5-5fd8-4817-d1f7-391ce131b74b"
      },
      "execution_count": null,
      "outputs": [
        {
          "output_type": "execute_result",
          "data": {
            "text/plain": [
              "['sepal length (cm)',\n",
              " 'sepal width (cm)',\n",
              " 'petal length (cm)',\n",
              " 'petal width (cm)']"
            ]
          },
          "metadata": {},
          "execution_count": 11
        }
      ]
    },
    {
      "cell_type": "code",
      "source": [
        "fig = plt.figure(figsize=(15,8))\n",
        "ax = fig.add_subplot(projection='3d')\n",
        "\n",
        "ax.plot(iris.data[:50,0],iris.data[:50,1],iris.data[:50,2],'ob',color='orange')\n",
        "ax.plot(iris.data[50:100,0],iris.data[50:100,1],iris.data[50:100,2],'ob',color='blue')\n",
        "ax.plot(iris.data[100:150,0],iris.data[100:150,1],iris.data[100:150,2],'ob',color='green')\n",
        "\n",
        "ax.plot(model.centroids[:,0],model.centroids[:,1],model.centroids[:,2],'ob',color='red',label='Centroids')\n",
        "\n",
        "#ax.set_title(\"Data Analysis \")\n",
        "ax.set_ylabel(iris.feature_names[1])\n",
        "ax.set_xlabel(iris.feature_names[0])\n",
        "ax.set_zlabel(iris.feature_names[2])\n",
        "plt.title('Kmeans - My implementation')\n",
        "plt.legend()\n",
        "plt.show()"
      ],
      "metadata": {
        "colab": {
          "base_uri": "https://localhost:8080/",
          "height": 466
        },
        "id": "CBPXsymX5Y9S",
        "outputId": "aa71b4ad-84c9-4c70-da17-3192af39a68a"
      },
      "execution_count": null,
      "outputs": [
        {
          "output_type": "display_data",
          "data": {
            "text/plain": [
              "<Figure size 1080x576 with 1 Axes>"
            ],
            "image/png": "[encoded data removed]"
          },
          "metadata": {
            "needs_background": "light"
          }
        }
      ]
    },
    {
      "cell_type": "markdown",
      "source": [
        "#US Arrests by state - example"
      ],
      "metadata": {
        "id": "szYniE7ah7PS"
      }
    },
    {
      "cell_type": "markdown",
      "source": [
        "Nesta aplicação utilizamos os dados do dataset 'US_violent_crime.csv'.\n",
        "Disponível em: \\url{https://www.kaggle.com/datasets/mathchi/violent-crime-rates-by-us-state?resource=download}"
      ],
      "metadata": {
        "id": "zyS_WPbp6nKD"
      }
    },
    {
      "cell_type": "code",
      "source": [
        "plt.rcParams['figure.figsize'] = (7,5)\n",
        "\n",
        "dataframe = pd.read_csv('/content/US_violent_crime.csv')\n",
        "dataframe.head()"
      ],
      "metadata": {
        "colab": {
          "base_uri": "https://localhost:8080/",
          "height": 206
        },
        "id": "3mIncZ-1h9gs",
        "outputId": "113bfd61-1fb0-42af-ad1e-f2714391b2fd"
      },
      "execution_count": null,
      "outputs": [
        {
          "output_type": "execute_result",
          "data": {
            "text/plain": [
              "   Unnamed: 0  Murder  Assault  UrbanPop  Rape\n",
              "0     Alabama    13.2      236        58  21.2\n",
              "1      Alaska    10.0      263        48  44.5\n",
              "2     Arizona     8.1      294        80  31.0\n",
              "3    Arkansas     8.8      190        50  19.5\n",
              "4  California     9.0      276        91  40.6"
            ],
            "text/html": [
              "\n",
              "  <div id=\"df-cb725caa-f884-47c0-a313-65d94145508c\">\n",
              "    <div class=\"colab-df-container\">\n",
              "      <div>\n",
              "<style scoped>\n",
              "    .dataframe tbody tr th:only-of-type {\n",
              "        vertical-align: middle;\n",
              "    }\n",
              "\n",
              "    .dataframe tbody tr th {\n",
              "        vertical-align: top;\n",
              "    }\n",
              "\n",
              "    .dataframe thead th {\n",
              "        text-align: right;\n",
              "    }\n",
              "</style>\n",
              "<table border=\"1\" class=\"dataframe\">\n",
              "  <thead>\n",
              "    <tr style=\"text-align: right;\">\n",
              "      <th></th>\n",
              "      <th>Unnamed: 0</th>\n",
              "      <th>Murder</th>\n",
              "      <th>Assault</th>\n",
              "      <th>UrbanPop</th>\n",
              "      <th>Rape</th>\n",
              "    </tr>\n",
              "  </thead>\n",
              "  <tbody>\n",
              "    <tr>\n",
              "      <th>0</th>\n",
              "      <td>Alabama</td>\n",
              "      <td>13.2</td>\n",
              "      <td>236</td>\n",
              "      <td>58</td>\n",
              "      <td>21.2</td>\n",
              "    </tr>\n",
              "    <tr>\n",
              "      <th>1</th>\n",
              "      <td>Alaska</td>\n",
              "      <td>10.0</td>\n",
              "      <td>263</td>\n",
              "      <td>48</td>\n",
              "      <td>44.5</td>\n",
              "    </tr>\n",
              "    <tr>\n",
              "      <th>2</th>\n",
              "      <td>Arizona</td>\n",
              "      <td>8.1</td>\n",
              "      <td>294</td>\n",
              "      <td>80</td>\n",
              "      <td>31.0</td>\n",
              "    </tr>\n",
              "    <tr>\n",
              "      <th>3</th>\n",
              "      <td>Arkansas</td>\n",
              "      <td>8.8</td>\n",
              "      <td>190</td>\n",
              "      <td>50</td>\n",
              "      <td>19.5</td>\n",
              "    </tr>\n",
              "    <tr>\n",
              "      <th>4</th>\n",
              "      <td>California</td>\n",
              "      <td>9.0</td>\n",
              "      <td>276</td>\n",
              "      <td>91</td>\n",
              "      <td>40.6</td>\n",
              "    </tr>\n",
              "  </tbody>\n",
              "</table>\n",
              "</div>\n",
              "      <button class=\"colab-df-convert\" onclick=\"convertToInteractive('df-cb725caa-f884-47c0-a313-65d94145508c')\"\n",
              "              title=\"Convert this dataframe to an interactive table.\"\n",
              "              style=\"display:none;\">\n",
              "        \n",
              "  <svg xmlns=\"http://www.w3.org/2000/svg\" height=\"24px\"viewBox=\"0 0 24 24\"\n",
              "       width=\"24px\">\n",
              "    <path d=\"M0 0h24v24H0V0z\" fill=\"none\"/>\n",
              "    <path d=\"M18.56 5.44l.94 2.06.94-2.06 2.06-.94-2.06-.94-.94-2.06-.94 2.06-2.06.94zm-11 1L8.5 8.5l.94-2.06 2.06-.94-2.06-.94L8.5 2.5l-.94 2.06-2.06.94zm10 10l.94 2.06.94-2.06 2.06-.94-2.06-.94-.94-2.06-.94 2.06-2.06.94z\"/><path d=\"M17.41 7.96l-1.37-1.37c-.4-.4-.92-.59-1.43-.59-.52 0-1.04.2-1.43.59L10.3 9.45l-7.72 7.72c-.78.78-.78 2.05 0 2.83L4 21.41c.39.39.9.59 1.41.59.51 0 1.02-.2 1.41-.59l7.78-7.78 2.81-2.81c.8-.78.8-2.07 0-2.86zM5.41 20L4 18.59l7.72-7.72 1.47 1.35L5.41 20z\"/>\n",
              "  </svg>\n",
              "      </button>\n",
              "      \n",
              "  <style>\n",
              "    .colab-df-container {\n",
              "      display:flex;\n",
              "      flex-wrap:wrap;\n",
              "      gap: 12px;\n",
              "    }\n",
              "\n",
              "    .colab-df-convert {\n",
              "      background-color: #E8F0FE;\n",
              "      border: none;\n",
              "      border-radius: 50%;\n",
              "      cursor: pointer;\n",
              "      display: none;\n",
              "      fill: #1967D2;\n",
              "      height: 32px;\n",
              "      padding: 0 0 0 0;\n",
              "      width: 32px;\n",
              "    }\n",
              "\n",
              "    .colab-df-convert:hover {\n",
              "      background-color: #E2EBFA;\n",
              "      box-shadow: 0px 1px 2px rgba(60, 64, 67, 0.3), 0px 1px 3px 1px rgba(60, 64, 67, 0.15);\n",
              "      fill: #174EA6;\n",
              "    }\n",
              "\n",
              "    [theme=dark] .colab-df-convert {\n",
              "      background-color: #3B4455;\n",
              "      fill: #D2E3FC;\n",
              "    }\n",
              "\n",
              "    [theme=dark] .colab-df-convert:hover {\n",
              "      background-color: #434B5C;\n",
              "      box-shadow: 0px 1px 3px 1px rgba(0, 0, 0, 0.15);\n",
              "      filter: drop-shadow(0px 1px 2px rgba(0, 0, 0, 0.3));\n",
              "      fill: #FFFFFF;\n",
              "    }\n",
              "  </style>\n",
              "\n",
              "      <script>\n",
              "        const buttonEl =\n",
              "          document.querySelector('#df-cb725caa-f884-47c0-a313-65d94145508c button.colab-df-convert');\n",
              "        buttonEl.style.display =\n",
              "          google.colab.kernel.accessAllowed ? 'block' : 'none';\n",
              "\n",
              "        async function convertToInteractive(key) {\n",
              "          const element = document.querySelector('#df-cb725caa-f884-47c0-a313-65d94145508c');\n",
              "          const dataTable =\n",
              "            await google.colab.kernel.invokeFunction('convertToInteractive',\n",
              "                                                     [key], {});\n",
              "          if (!dataTable) return;\n",
              "\n",
              "          const docLinkHtml = 'Like what you see? Visit the ' +\n",
              "            '<a target=\"_blank\" href=https://colab.research.google.com/notebooks/data_table.ipynb>data table notebook</a>'\n",
              "            + ' to learn more about interactive tables.';\n",
              "          element.innerHTML = '';\n",
              "          dataTable['output_type'] = 'display_data';\n",
              "          await google.colab.output.renderOutput(dataTable, element);\n",
              "          const docLink = document.createElement('div');\n",
              "          docLink.innerHTML = docLinkHtml;\n",
              "          element.appendChild(docLink);\n",
              "        }\n",
              "      </script>\n",
              "    </div>\n",
              "  </div>\n",
              "  "
            ]
          },
          "metadata": {},
          "execution_count": 138
        }
      ]
    },
    {
      "cell_type": "code",
      "source": [
        "dataframe.shape\n",
        "dataframe = dataframe.rename({'Unnamed: 0':'State'},axis=1)\n",
        "dataframe.columns"
      ],
      "metadata": {
        "colab": {
          "base_uri": "https://localhost:8080/"
        },
        "id": "o6KqbCV-iJ6k",
        "outputId": "3956cac5-e664-4963-93b0-190d8c44ee2e"
      },
      "execution_count": null,
      "outputs": [
        {
          "output_type": "execute_result",
          "data": {
            "text/plain": [
              "Index(['State', 'Murder', 'Assault', 'UrbanPop', 'Rape'], dtype='object')"
            ]
          },
          "metadata": {},
          "execution_count": 139
        }
      ]
    },
    {
      "cell_type": "code",
      "source": [
        "plt.subplots()\n",
        "\n",
        "plt.subplot(2,2,1)\n",
        "sns.histplot(dataframe['Murder'].values,bins=10)\n",
        "plt.subplot(2,2,2)\n",
        "sns.histplot(dataframe['Assault'].values,bins=10)\n",
        "plt.subplot(2,2,3)\n",
        "sns.histplot(dataframe['UrbanPop'].values,bins=10)\n",
        "plt.subplot(2,2,4)\n",
        "sns.histplot(dataframe['Rape'].values,bins=10)\n",
        "\n",
        "plt.tight_layout()\n",
        "plt.show()"
      ],
      "metadata": {
        "colab": {
          "base_uri": "https://localhost:8080/",
          "height": 369
        },
        "id": "T9Fo-_S3ibWF",
        "outputId": "93b1a176-de2e-4189-c218-1e9740a4d6af"
      },
      "execution_count": null,
      "outputs": [
        {
          "output_type": "display_data",
          "data": {
            "text/plain": [
              "<Figure size 504x360 with 4 Axes>"
            ],
            "image/png": "[encoded data removed]"
          },
          "metadata": {
            "needs_background": "light"
          }
        }
      ]
    },
    {
      "cell_type": "markdown",
      "source": [
        "Nota-se a necessidade da aplicação de normalização para os dados, visto o intervalo de comparação em que as variáveis se encontram."
      ],
      "metadata": {
        "id": "jwX7FJxM7EQa"
      }
    },
    {
      "cell_type": "code",
      "source": [
        "data = np.array(dataframe.values[:,1:],dtype=float)\n",
        "data = mean_normalization(data)"
      ],
      "metadata": {
        "id": "XgFFZqhaphlQ"
      },
      "execution_count": null,
      "outputs": []
    },
    {
      "cell_type": "code",
      "source": [
        "print(f'Max:{data.max()} , Min:{data.min()}')"
      ],
      "metadata": {
        "colab": {
          "base_uri": "https://localhost:8080/"
        },
        "id": "XQ3roho7snkL",
        "outputId": "f9b09c7b-c4d0-4727-e634-c65387fbde50"
      },
      "execution_count": null,
      "outputs": [
        {
          "output_type": "stream",
          "name": "stdout",
          "text": [
            "Max:2.6711969960770587 , Min:-2.340661149758242\n"
          ]
        }
      ]
    },
    {
      "cell_type": "markdown",
      "source": [
        "A ideia é identificar quais estados são mais seguros para se morar, e quais estados têm índices de criminalidade mais elevados, ou seja, são menos seguros."
      ],
      "metadata": {
        "id": "K_NU-a5C9oEe"
      }
    },
    {
      "cell_type": "code",
      "source": [
        "model = k_means(data,2)\n",
        "model.train_model()"
      ],
      "metadata": {
        "colab": {
          "base_uri": "https://localhost:8080/",
          "height": 355
        },
        "id": "zi7qYCeVs_U0",
        "outputId": "527bdf7a-734b-4125-e61e-b5ac7de3eaaf"
      },
      "execution_count": null,
      "outputs": [
        {
          "output_type": "stream",
          "name": "stdout",
          "text": [
            "[1. 1.]\n"
          ]
        },
        {
          "output_type": "display_data",
          "data": {
            "text/plain": [
              "<Figure size 504x360 with 1 Axes>"
            ],
            "image/png": "[encoded data removed]"
          },
          "metadata": {
            "needs_background": "light"
          }
        },
        {
          "output_type": "stream",
          "name": "stdout",
          "text": [
            "[0. 0.]\n"
          ]
        }
      ]
    },
    {
      "cell_type": "code",
      "source": [
        "clis = []\n",
        "for i in model.x_clusters:\n",
        "  clis.append(i.cl_i)\n",
        "\n",
        "df_results = pd.DataFrame({'state':dataframe['State'].values,'id':clis})"
      ],
      "metadata": {
        "id": "P6xaYPy8tezP"
      },
      "execution_count": null,
      "outputs": []
    },
    {
      "cell_type": "code",
      "source": [
        "df_results.head()"
      ],
      "metadata": {
        "colab": {
          "base_uri": "https://localhost:8080/",
          "height": 206
        },
        "id": "H_ZHrCubu7sw",
        "outputId": "7bfb9070-45e4-408c-bf97-102770a1a9cf"
      },
      "execution_count": null,
      "outputs": [
        {
          "output_type": "execute_result",
          "data": {
            "text/plain": [
              "        state  id\n",
              "0     Alabama   1\n",
              "1      Alaska   1\n",
              "2     Arizona   1\n",
              "3    Arkansas   0\n",
              "4  California   1"
            ],
            "text/html": [
              "\n",
              "  <div id=\"df-db081c5b-6249-4db5-8c6a-57a0b7d50315\">\n",
              "    <div class=\"colab-df-container\">\n",
              "      <div>\n",
              "<style scoped>\n",
              "    .dataframe tbody tr th:only-of-type {\n",
              "        vertical-align: middle;\n",
              "    }\n",
              "\n",
              "    .dataframe tbody tr th {\n",
              "        vertical-align: top;\n",
              "    }\n",
              "\n",
              "    .dataframe thead th {\n",
              "        text-align: right;\n",
              "    }\n",
              "</style>\n",
              "<table border=\"1\" class=\"dataframe\">\n",
              "  <thead>\n",
              "    <tr style=\"text-align: right;\">\n",
              "      <th></th>\n",
              "      <th>state</th>\n",
              "      <th>id</th>\n",
              "    </tr>\n",
              "  </thead>\n",
              "  <tbody>\n",
              "    <tr>\n",
              "      <th>0</th>\n",
              "      <td>Alabama</td>\n",
              "      <td>1</td>\n",
              "    </tr>\n",
              "    <tr>\n",
              "      <th>1</th>\n",
              "      <td>Alaska</td>\n",
              "      <td>1</td>\n",
              "    </tr>\n",
              "    <tr>\n",
              "      <th>2</th>\n",
              "      <td>Arizona</td>\n",
              "      <td>1</td>\n",
              "    </tr>\n",
              "    <tr>\n",
              "      <th>3</th>\n",
              "      <td>Arkansas</td>\n",
              "      <td>0</td>\n",
              "    </tr>\n",
              "    <tr>\n",
              "      <th>4</th>\n",
              "      <td>California</td>\n",
              "      <td>1</td>\n",
              "    </tr>\n",
              "  </tbody>\n",
              "</table>\n",
              "</div>\n",
              "      <button class=\"colab-df-convert\" onclick=\"convertToInteractive('df-db081c5b-6249-4db5-8c6a-57a0b7d50315')\"\n",
              "              title=\"Convert this dataframe to an interactive table.\"\n",
              "              style=\"display:none;\">\n",
              "        \n",
              "  <svg xmlns=\"http://www.w3.org/2000/svg\" height=\"24px\"viewBox=\"0 0 24 24\"\n",
              "       width=\"24px\">\n",
              "    <path d=\"M0 0h24v24H0V0z\" fill=\"none\"/>\n",
              "    <path d=\"M18.56 5.44l.94 2.06.94-2.06 2.06-.94-2.06-.94-.94-2.06-.94 2.06-2.06.94zm-11 1L8.5 8.5l.94-2.06 2.06-.94-2.06-.94L8.5 2.5l-.94 2.06-2.06.94zm10 10l.94 2.06.94-2.06 2.06-.94-2.06-.94-.94-2.06-.94 2.06-2.06.94z\"/><path d=\"M17.41 7.96l-1.37-1.37c-.4-.4-.92-.59-1.43-.59-.52 0-1.04.2-1.43.59L10.3 9.45l-7.72 7.72c-.78.78-.78 2.05 0 2.83L4 21.41c.39.39.9.59 1.41.59.51 0 1.02-.2 1.41-.59l7.78-7.78 2.81-2.81c.8-.78.8-2.07 0-2.86zM5.41 20L4 18.59l7.72-7.72 1.47 1.35L5.41 20z\"/>\n",
              "  </svg>\n",
              "      </button>\n",
              "      \n",
              "  <style>\n",
              "    .colab-df-container {\n",
              "      display:flex;\n",
              "      flex-wrap:wrap;\n",
              "      gap: 12px;\n",
              "    }\n",
              "\n",
              "    .colab-df-convert {\n",
              "      background-color: #E8F0FE;\n",
              "      border: none;\n",
              "      border-radius: 50%;\n",
              "      cursor: pointer;\n",
              "      display: none;\n",
              "      fill: #1967D2;\n",
              "      height: 32px;\n",
              "      padding: 0 0 0 0;\n",
              "      width: 32px;\n",
              "    }\n",
              "\n",
              "    .colab-df-convert:hover {\n",
              "      background-color: #E2EBFA;\n",
              "      box-shadow: 0px 1px 2px rgba(60, 64, 67, 0.3), 0px 1px 3px 1px rgba(60, 64, 67, 0.15);\n",
              "      fill: #174EA6;\n",
              "    }\n",
              "\n",
              "    [theme=dark] .colab-df-convert {\n",
              "      background-color: #3B4455;\n",
              "      fill: #D2E3FC;\n",
              "    }\n",
              "\n",
              "    [theme=dark] .colab-df-convert:hover {\n",
              "      background-color: #434B5C;\n",
              "      box-shadow: 0px 1px 3px 1px rgba(0, 0, 0, 0.15);\n",
              "      filter: drop-shadow(0px 1px 2px rgba(0, 0, 0, 0.3));\n",
              "      fill: #FFFFFF;\n",
              "    }\n",
              "  </style>\n",
              "\n",
              "      <script>\n",
              "        const buttonEl =\n",
              "          document.querySelector('#df-db081c5b-6249-4db5-8c6a-57a0b7d50315 button.colab-df-convert');\n",
              "        buttonEl.style.display =\n",
              "          google.colab.kernel.accessAllowed ? 'block' : 'none';\n",
              "\n",
              "        async function convertToInteractive(key) {\n",
              "          const element = document.querySelector('#df-db081c5b-6249-4db5-8c6a-57a0b7d50315');\n",
              "          const dataTable =\n",
              "            await google.colab.kernel.invokeFunction('convertToInteractive',\n",
              "                                                     [key], {});\n",
              "          if (!dataTable) return;\n",
              "\n",
              "          const docLinkHtml = 'Like what you see? Visit the ' +\n",
              "            '<a target=\"_blank\" href=https://colab.research.google.com/notebooks/data_table.ipynb>data table notebook</a>'\n",
              "            + ' to learn more about interactive tables.';\n",
              "          element.innerHTML = '';\n",
              "          dataTable['output_type'] = 'display_data';\n",
              "          await google.colab.output.renderOutput(dataTable, element);\n",
              "          const docLink = document.createElement('div');\n",
              "          docLink.innerHTML = docLinkHtml;\n",
              "          element.appendChild(docLink);\n",
              "        }\n",
              "      </script>\n",
              "    </div>\n",
              "  </div>\n",
              "  "
            ]
          },
          "metadata": {},
          "execution_count": 145
        }
      ]
    },
    {
      "cell_type": "code",
      "source": [
        "np.unique(clis,return_counts=True)"
      ],
      "metadata": {
        "colab": {
          "base_uri": "https://localhost:8080/"
        },
        "id": "9XVTJSDAvJ13",
        "outputId": "822e1903-41c0-499c-fe58-a5283568b58b"
      },
      "execution_count": null,
      "outputs": [
        {
          "output_type": "execute_result",
          "data": {
            "text/plain": [
              "(array([0, 1]), array([31, 19]))"
            ]
          },
          "metadata": {},
          "execution_count": 146
        }
      ]
    },
    {
      "cell_type": "code",
      "source": [
        "dataframe = dataframe.merge(df_results,left_on='State',right_on='state',how='inner')\n",
        "dataframe = dataframe.drop('state',axis=1)\n",
        "dataframe.head()"
      ],
      "metadata": {
        "colab": {
          "base_uri": "https://localhost:8080/",
          "height": 206
        },
        "id": "pPMFwA-v2bLX",
        "outputId": "d02ae9b9-a15b-47a2-bc35-67b68c687c4e"
      },
      "execution_count": null,
      "outputs": [
        {
          "output_type": "execute_result",
          "data": {
            "text/plain": [
              "        State  Murder  Assault  UrbanPop  Rape  id\n",
              "0     Alabama    13.2      236        58  21.2   1\n",
              "1      Alaska    10.0      263        48  44.5   1\n",
              "2     Arizona     8.1      294        80  31.0   1\n",
              "3    Arkansas     8.8      190        50  19.5   0\n",
              "4  California     9.0      276        91  40.6   1"
            ],
            "text/html": [
              "\n",
              "  <div id=\"df-c9e45cfa-9de2-4368-9d19-f8a31912a8c2\">\n",
              "    <div class=\"colab-df-container\">\n",
              "      <div>\n",
              "<style scoped>\n",
              "    .dataframe tbody tr th:only-of-type {\n",
              "        vertical-align: middle;\n",
              "    }\n",
              "\n",
              "    .dataframe tbody tr th {\n",
              "        vertical-align: top;\n",
              "    }\n",
              "\n",
              "    .dataframe thead th {\n",
              "        text-align: right;\n",
              "    }\n",
              "</style>\n",
              "<table border=\"1\" class=\"dataframe\">\n",
              "  <thead>\n",
              "    <tr style=\"text-align: right;\">\n",
              "      <th></th>\n",
              "      <th>State</th>\n",
              "      <th>Murder</th>\n",
              "      <th>Assault</th>\n",
              "      <th>UrbanPop</th>\n",
              "      <th>Rape</th>\n",
              "      <th>id</th>\n",
              "    </tr>\n",
              "  </thead>\n",
              "  <tbody>\n",
              "    <tr>\n",
              "      <th>0</th>\n",
              "      <td>Alabama</td>\n",
              "      <td>13.2</td>\n",
              "      <td>236</td>\n",
              "      <td>58</td>\n",
              "      <td>21.2</td>\n",
              "      <td>1</td>\n",
              "    </tr>\n",
              "    <tr>\n",
              "      <th>1</th>\n",
              "      <td>Alaska</td>\n",
              "      <td>10.0</td>\n",
              "      <td>263</td>\n",
              "      <td>48</td>\n",
              "      <td>44.5</td>\n",
              "      <td>1</td>\n",
              "    </tr>\n",
              "    <tr>\n",
              "      <th>2</th>\n",
              "      <td>Arizona</td>\n",
              "      <td>8.1</td>\n",
              "      <td>294</td>\n",
              "      <td>80</td>\n",
              "      <td>31.0</td>\n",
              "      <td>1</td>\n",
              "    </tr>\n",
              "    <tr>\n",
              "      <th>3</th>\n",
              "      <td>Arkansas</td>\n",
              "      <td>8.8</td>\n",
              "      <td>190</td>\n",
              "      <td>50</td>\n",
              "      <td>19.5</td>\n",
              "      <td>0</td>\n",
              "    </tr>\n",
              "    <tr>\n",
              "      <th>4</th>\n",
              "      <td>California</td>\n",
              "      <td>9.0</td>\n",
              "      <td>276</td>\n",
              "      <td>91</td>\n",
              "      <td>40.6</td>\n",
              "      <td>1</td>\n",
              "    </tr>\n",
              "  </tbody>\n",
              "</table>\n",
              "</div>\n",
              "      <button class=\"colab-df-convert\" onclick=\"convertToInteractive('df-c9e45cfa-9de2-4368-9d19-f8a31912a8c2')\"\n",
              "              title=\"Convert this dataframe to an interactive table.\"\n",
              "              style=\"display:none;\">\n",
              "        \n",
              "  <svg xmlns=\"http://www.w3.org/2000/svg\" height=\"24px\"viewBox=\"0 0 24 24\"\n",
              "       width=\"24px\">\n",
              "    <path d=\"M0 0h24v24H0V0z\" fill=\"none\"/>\n",
              "    <path d=\"M18.56 5.44l.94 2.06.94-2.06 2.06-.94-2.06-.94-.94-2.06-.94 2.06-2.06.94zm-11 1L8.5 8.5l.94-2.06 2.06-.94-2.06-.94L8.5 2.5l-.94 2.06-2.06.94zm10 10l.94 2.06.94-2.06 2.06-.94-2.06-.94-.94-2.06-.94 2.06-2.06.94z\"/><path d=\"M17.41 7.96l-1.37-1.37c-.4-.4-.92-.59-1.43-.59-.52 0-1.04.2-1.43.59L10.3 9.45l-7.72 7.72c-.78.78-.78 2.05 0 2.83L4 21.41c.39.39.9.59 1.41.59.51 0 1.02-.2 1.41-.59l7.78-7.78 2.81-2.81c.8-.78.8-2.07 0-2.86zM5.41 20L4 18.59l7.72-7.72 1.47 1.35L5.41 20z\"/>\n",
              "  </svg>\n",
              "      </button>\n",
              "      \n",
              "  <style>\n",
              "    .colab-df-container {\n",
              "      display:flex;\n",
              "      flex-wrap:wrap;\n",
              "      gap: 12px;\n",
              "    }\n",
              "\n",
              "    .colab-df-convert {\n",
              "      background-color: #E8F0FE;\n",
              "      border: none;\n",
              "      border-radius: 50%;\n",
              "      cursor: pointer;\n",
              "      display: none;\n",
              "      fill: #1967D2;\n",
              "      height: 32px;\n",
              "      padding: 0 0 0 0;\n",
              "      width: 32px;\n",
              "    }\n",
              "\n",
              "    .colab-df-convert:hover {\n",
              "      background-color: #E2EBFA;\n",
              "      box-shadow: 0px 1px 2px rgba(60, 64, 67, 0.3), 0px 1px 3px 1px rgba(60, 64, 67, 0.15);\n",
              "      fill: #174EA6;\n",
              "    }\n",
              "\n",
              "    [theme=dark] .colab-df-convert {\n",
              "      background-color: #3B4455;\n",
              "      fill: #D2E3FC;\n",
              "    }\n",
              "\n",
              "    [theme=dark] .colab-df-convert:hover {\n",
              "      background-color: #434B5C;\n",
              "      box-shadow: 0px 1px 3px 1px rgba(0, 0, 0, 0.15);\n",
              "      filter: drop-shadow(0px 1px 2px rgba(0, 0, 0, 0.3));\n",
              "      fill: #FFFFFF;\n",
              "    }\n",
              "  </style>\n",
              "\n",
              "      <script>\n",
              "        const buttonEl =\n",
              "          document.querySelector('#df-c9e45cfa-9de2-4368-9d19-f8a31912a8c2 button.colab-df-convert');\n",
              "        buttonEl.style.display =\n",
              "          google.colab.kernel.accessAllowed ? 'block' : 'none';\n",
              "\n",
              "        async function convertToInteractive(key) {\n",
              "          const element = document.querySelector('#df-c9e45cfa-9de2-4368-9d19-f8a31912a8c2');\n",
              "          const dataTable =\n",
              "            await google.colab.kernel.invokeFunction('convertToInteractive',\n",
              "                                                     [key], {});\n",
              "          if (!dataTable) return;\n",
              "\n",
              "          const docLinkHtml = 'Like what you see? Visit the ' +\n",
              "            '<a target=\"_blank\" href=https://colab.research.google.com/notebooks/data_table.ipynb>data table notebook</a>'\n",
              "            + ' to learn more about interactive tables.';\n",
              "          element.innerHTML = '';\n",
              "          dataTable['output_type'] = 'display_data';\n",
              "          await google.colab.output.renderOutput(dataTable, element);\n",
              "          const docLink = document.createElement('div');\n",
              "          docLink.innerHTML = docLinkHtml;\n",
              "          element.appendChild(docLink);\n",
              "        }\n",
              "      </script>\n",
              "    </div>\n",
              "  </div>\n",
              "  "
            ]
          },
          "metadata": {},
          "execution_count": 147
        }
      ]
    },
    {
      "cell_type": "markdown",
      "source": [
        "Médias para cada conjunto em cada um dos marcadores abordados"
      ],
      "metadata": {
        "id": "LigoMLokAeIO"
      }
    },
    {
      "cell_type": "code",
      "source": [
        "dataframe.groupby('id').mean()"
      ],
      "metadata": {
        "colab": {
          "base_uri": "https://localhost:8080/",
          "height": 143
        },
        "id": "DxdGuww54qBz",
        "outputId": "766d57a3-21e9-4a74-eed9-2aa1ec58c692"
      },
      "execution_count": null,
      "outputs": [
        {
          "output_type": "execute_result",
          "data": {
            "text/plain": [
              "       Murder     Assault   UrbanPop       Rape\n",
              "id                                             \n",
              "0    5.003226  116.483871  63.838710  16.338710\n",
              "1   12.331579  259.315789  68.315789  29.215789"
            ],
            "text/html": [
              "\n",
              "  <div id=\"df-1a6abed0-4fbd-46da-afde-346a0112f53b\">\n",
              "    <div class=\"colab-df-container\">\n",
              "      <div>\n",
              "<style scoped>\n",
              "    .dataframe tbody tr th:only-of-type {\n",
              "        vertical-align: middle;\n",
              "    }\n",
              "\n",
              "    .dataframe tbody tr th {\n",
              "        vertical-align: top;\n",
              "    }\n",
              "\n",
              "    .dataframe thead th {\n",
              "        text-align: right;\n",
              "    }\n",
              "</style>\n",
              "<table border=\"1\" class=\"dataframe\">\n",
              "  <thead>\n",
              "    <tr style=\"text-align: right;\">\n",
              "      <th></th>\n",
              "      <th>Murder</th>\n",
              "      <th>Assault</th>\n",
              "      <th>UrbanPop</th>\n",
              "      <th>Rape</th>\n",
              "    </tr>\n",
              "    <tr>\n",
              "      <th>id</th>\n",
              "      <th></th>\n",
              "      <th></th>\n",
              "      <th></th>\n",
              "      <th></th>\n",
              "    </tr>\n",
              "  </thead>\n",
              "  <tbody>\n",
              "    <tr>\n",
              "      <th>0</th>\n",
              "      <td>5.003226</td>\n",
              "      <td>116.483871</td>\n",
              "      <td>63.838710</td>\n",
              "      <td>16.338710</td>\n",
              "    </tr>\n",
              "    <tr>\n",
              "      <th>1</th>\n",
              "      <td>12.331579</td>\n",
              "      <td>259.315789</td>\n",
              "      <td>68.315789</td>\n",
              "      <td>29.215789</td>\n",
              "    </tr>\n",
              "  </tbody>\n",
              "</table>\n",
              "</div>\n",
              "      <button class=\"colab-df-convert\" onclick=\"convertToInteractive('df-1a6abed0-4fbd-46da-afde-346a0112f53b')\"\n",
              "              title=\"Convert this dataframe to an interactive table.\"\n",
              "              style=\"display:none;\">\n",
              "        \n",
              "  <svg xmlns=\"http://www.w3.org/2000/svg\" height=\"24px\"viewBox=\"0 0 24 24\"\n",
              "       width=\"24px\">\n",
              "    <path d=\"M0 0h24v24H0V0z\" fill=\"none\"/>\n",
              "    <path d=\"M18.56 5.44l.94 2.06.94-2.06 2.06-.94-2.06-.94-.94-2.06-.94 2.06-2.06.94zm-11 1L8.5 8.5l.94-2.06 2.06-.94-2.06-.94L8.5 2.5l-.94 2.06-2.06.94zm10 10l.94 2.06.94-2.06 2.06-.94-2.06-.94-.94-2.06-.94 2.06-2.06.94z\"/><path d=\"M17.41 7.96l-1.37-1.37c-.4-.4-.92-.59-1.43-.59-.52 0-1.04.2-1.43.59L10.3 9.45l-7.72 7.72c-.78.78-.78 2.05 0 2.83L4 21.41c.39.39.9.59 1.41.59.51 0 1.02-.2 1.41-.59l7.78-7.78 2.81-2.81c.8-.78.8-2.07 0-2.86zM5.41 20L4 18.59l7.72-7.72 1.47 1.35L5.41 20z\"/>\n",
              "  </svg>\n",
              "      </button>\n",
              "      \n",
              "  <style>\n",
              "    .colab-df-container {\n",
              "      display:flex;\n",
              "      flex-wrap:wrap;\n",
              "      gap: 12px;\n",
              "    }\n",
              "\n",
              "    .colab-df-convert {\n",
              "      background-color: #E8F0FE;\n",
              "      border: none;\n",
              "      border-radius: 50%;\n",
              "      cursor: pointer;\n",
              "      display: none;\n",
              "      fill: #1967D2;\n",
              "      height: 32px;\n",
              "      padding: 0 0 0 0;\n",
              "      width: 32px;\n",
              "    }\n",
              "\n",
              "    .colab-df-convert:hover {\n",
              "      background-color: #E2EBFA;\n",
              "      box-shadow: 0px 1px 2px rgba(60, 64, 67, 0.3), 0px 1px 3px 1px rgba(60, 64, 67, 0.15);\n",
              "      fill: #174EA6;\n",
              "    }\n",
              "\n",
              "    [theme=dark] .colab-df-convert {\n",
              "      background-color: #3B4455;\n",
              "      fill: #D2E3FC;\n",
              "    }\n",
              "\n",
              "    [theme=dark] .colab-df-convert:hover {\n",
              "      background-color: #434B5C;\n",
              "      box-shadow: 0px 1px 3px 1px rgba(0, 0, 0, 0.15);\n",
              "      filter: drop-shadow(0px 1px 2px rgba(0, 0, 0, 0.3));\n",
              "      fill: #FFFFFF;\n",
              "    }\n",
              "  </style>\n",
              "\n",
              "      <script>\n",
              "        const buttonEl =\n",
              "          document.querySelector('#df-1a6abed0-4fbd-46da-afde-346a0112f53b button.colab-df-convert');\n",
              "        buttonEl.style.display =\n",
              "          google.colab.kernel.accessAllowed ? 'block' : 'none';\n",
              "\n",
              "        async function convertToInteractive(key) {\n",
              "          const element = document.querySelector('#df-1a6abed0-4fbd-46da-afde-346a0112f53b');\n",
              "          const dataTable =\n",
              "            await google.colab.kernel.invokeFunction('convertToInteractive',\n",
              "                                                     [key], {});\n",
              "          if (!dataTable) return;\n",
              "\n",
              "          const docLinkHtml = 'Like what you see? Visit the ' +\n",
              "            '<a target=\"_blank\" href=https://colab.research.google.com/notebooks/data_table.ipynb>data table notebook</a>'\n",
              "            + ' to learn more about interactive tables.';\n",
              "          element.innerHTML = '';\n",
              "          dataTable['output_type'] = 'display_data';\n",
              "          await google.colab.output.renderOutput(dataTable, element);\n",
              "          const docLink = document.createElement('div');\n",
              "          docLink.innerHTML = docLinkHtml;\n",
              "          element.appendChild(docLink);\n",
              "        }\n",
              "      </script>\n",
              "    </div>\n",
              "  </div>\n",
              "  "
            ]
          },
          "metadata": {},
          "execution_count": 148
        }
      ]
    },
    {
      "cell_type": "markdown",
      "source": [
        "Notamos então, que o conjunto 1 é composto pelos estados menos seguros de residir"
      ],
      "metadata": {
        "id": "5XzsSPqf46U6"
      }
    },
    {
      "cell_type": "code",
      "source": [
        "plt.figure()\n",
        "dataframe.groupby('id').boxplot()\n",
        "plt.tight_layout()\n",
        "plt.show()"
      ],
      "metadata": {
        "colab": {
          "base_uri": "https://localhost:8080/",
          "height": 386
        },
        "id": "iWfi3JI85eGX",
        "outputId": "d14cb8ee-5721-4fc2-dcbe-75676e213b1f"
      },
      "execution_count": null,
      "outputs": [
        {
          "output_type": "display_data",
          "data": {
            "text/plain": [
              "<Figure size 504x360 with 0 Axes>"
            ]
          },
          "metadata": {}
        },
        {
          "output_type": "display_data",
          "data": {
            "text/plain": [
              "<Figure size 504x360 with 2 Axes>"
            ],
            "image/png": "[encoded data removed]"
          },
          "metadata": {
            "needs_background": "light"
          }
        }
      ]
    },
    {
      "cell_type": "markdown",
      "source": [
        "O que é fortemente apontado pelos boxplots para cada identificador"
      ],
      "metadata": {
        "id": "j5yTwQfD6OXY"
      }
    },
    {
      "cell_type": "code",
      "source": [
        "dataframe.loc[dataframe['id'] == 1,'id'] = 'Non-safe state'\n",
        "dataframe.loc[dataframe['id'] == 0,'id'] = 'Safe state'\n",
        "\n",
        "dataframe.head()"
      ],
      "metadata": {
        "colab": {
          "base_uri": "https://localhost:8080/",
          "height": 206
        },
        "id": "oH6KSjIo7420",
        "outputId": "f7f91618-a246-488f-ac27-e3ed69575569"
      },
      "execution_count": null,
      "outputs": [
        {
          "output_type": "execute_result",
          "data": {
            "text/plain": [
              "        State  Murder  Assault  UrbanPop  Rape              id\n",
              "0     Alabama    13.2      236        58  21.2  Non-safe state\n",
              "1      Alaska    10.0      263        48  44.5  Non-safe state\n",
              "2     Arizona     8.1      294        80  31.0  Non-safe state\n",
              "3    Arkansas     8.8      190        50  19.5      Safe state\n",
              "4  California     9.0      276        91  40.6  Non-safe state"
            ],
            "text/html": [
              "\n",
              "  <div id=\"df-bdd1a636-0ff6-41fc-be29-18c66a09e1d8\">\n",
              "    <div class=\"colab-df-container\">\n",
              "      <div>\n",
              "<style scoped>\n",
              "    .dataframe tbody tr th:only-of-type {\n",
              "        vertical-align: middle;\n",
              "    }\n",
              "\n",
              "    .dataframe tbody tr th {\n",
              "        vertical-align: top;\n",
              "    }\n",
              "\n",
              "    .dataframe thead th {\n",
              "        text-align: right;\n",
              "    }\n",
              "</style>\n",
              "<table border=\"1\" class=\"dataframe\">\n",
              "  <thead>\n",
              "    <tr style=\"text-align: right;\">\n",
              "      <th></th>\n",
              "      <th>State</th>\n",
              "      <th>Murder</th>\n",
              "      <th>Assault</th>\n",
              "      <th>UrbanPop</th>\n",
              "      <th>Rape</th>\n",
              "      <th>id</th>\n",
              "    </tr>\n",
              "  </thead>\n",
              "  <tbody>\n",
              "    <tr>\n",
              "      <th>0</th>\n",
              "      <td>Alabama</td>\n",
              "      <td>13.2</td>\n",
              "      <td>236</td>\n",
              "      <td>58</td>\n",
              "      <td>21.2</td>\n",
              "      <td>Non-safe state</td>\n",
              "    </tr>\n",
              "    <tr>\n",
              "      <th>1</th>\n",
              "      <td>Alaska</td>\n",
              "      <td>10.0</td>\n",
              "      <td>263</td>\n",
              "      <td>48</td>\n",
              "      <td>44.5</td>\n",
              "      <td>Non-safe state</td>\n",
              "    </tr>\n",
              "    <tr>\n",
              "      <th>2</th>\n",
              "      <td>Arizona</td>\n",
              "      <td>8.1</td>\n",
              "      <td>294</td>\n",
              "      <td>80</td>\n",
              "      <td>31.0</td>\n",
              "      <td>Non-safe state</td>\n",
              "    </tr>\n",
              "    <tr>\n",
              "      <th>3</th>\n",
              "      <td>Arkansas</td>\n",
              "      <td>8.8</td>\n",
              "      <td>190</td>\n",
              "      <td>50</td>\n",
              "      <td>19.5</td>\n",
              "      <td>Safe state</td>\n",
              "    </tr>\n",
              "    <tr>\n",
              "      <th>4</th>\n",
              "      <td>California</td>\n",
              "      <td>9.0</td>\n",
              "      <td>276</td>\n",
              "      <td>91</td>\n",
              "      <td>40.6</td>\n",
              "      <td>Non-safe state</td>\n",
              "    </tr>\n",
              "  </tbody>\n",
              "</table>\n",
              "</div>\n",
              "      <button class=\"colab-df-convert\" onclick=\"convertToInteractive('df-bdd1a636-0ff6-41fc-be29-18c66a09e1d8')\"\n",
              "              title=\"Convert this dataframe to an interactive table.\"\n",
              "              style=\"display:none;\">\n",
              "        \n",
              "  <svg xmlns=\"http://www.w3.org/2000/svg\" height=\"24px\"viewBox=\"0 0 24 24\"\n",
              "       width=\"24px\">\n",
              "    <path d=\"M0 0h24v24H0V0z\" fill=\"none\"/>\n",
              "    <path d=\"M18.56 5.44l.94 2.06.94-2.06 2.06-.94-2.06-.94-.94-2.06-.94 2.06-2.06.94zm-11 1L8.5 8.5l.94-2.06 2.06-.94-2.06-.94L8.5 2.5l-.94 2.06-2.06.94zm10 10l.94 2.06.94-2.06 2.06-.94-2.06-.94-.94-2.06-.94 2.06-2.06.94z\"/><path d=\"M17.41 7.96l-1.37-1.37c-.4-.4-.92-.59-1.43-.59-.52 0-1.04.2-1.43.59L10.3 9.45l-7.72 7.72c-.78.78-.78 2.05 0 2.83L4 21.41c.39.39.9.59 1.41.59.51 0 1.02-.2 1.41-.59l7.78-7.78 2.81-2.81c.8-.78.8-2.07 0-2.86zM5.41 20L4 18.59l7.72-7.72 1.47 1.35L5.41 20z\"/>\n",
              "  </svg>\n",
              "      </button>\n",
              "      \n",
              "  <style>\n",
              "    .colab-df-container {\n",
              "      display:flex;\n",
              "      flex-wrap:wrap;\n",
              "      gap: 12px;\n",
              "    }\n",
              "\n",
              "    .colab-df-convert {\n",
              "      background-color: #E8F0FE;\n",
              "      border: none;\n",
              "      border-radius: 50%;\n",
              "      cursor: pointer;\n",
              "      display: none;\n",
              "      fill: #1967D2;\n",
              "      height: 32px;\n",
              "      padding: 0 0 0 0;\n",
              "      width: 32px;\n",
              "    }\n",
              "\n",
              "    .colab-df-convert:hover {\n",
              "      background-color: #E2EBFA;\n",
              "      box-shadow: 0px 1px 2px rgba(60, 64, 67, 0.3), 0px 1px 3px 1px rgba(60, 64, 67, 0.15);\n",
              "      fill: #174EA6;\n",
              "    }\n",
              "\n",
              "    [theme=dark] .colab-df-convert {\n",
              "      background-color: #3B4455;\n",
              "      fill: #D2E3FC;\n",
              "    }\n",
              "\n",
              "    [theme=dark] .colab-df-convert:hover {\n",
              "      background-color: #434B5C;\n",
              "      box-shadow: 0px 1px 3px 1px rgba(0, 0, 0, 0.15);\n",
              "      filter: drop-shadow(0px 1px 2px rgba(0, 0, 0, 0.3));\n",
              "      fill: #FFFFFF;\n",
              "    }\n",
              "  </style>\n",
              "\n",
              "      <script>\n",
              "        const buttonEl =\n",
              "          document.querySelector('#df-bdd1a636-0ff6-41fc-be29-18c66a09e1d8 button.colab-df-convert');\n",
              "        buttonEl.style.display =\n",
              "          google.colab.kernel.accessAllowed ? 'block' : 'none';\n",
              "\n",
              "        async function convertToInteractive(key) {\n",
              "          const element = document.querySelector('#df-bdd1a636-0ff6-41fc-be29-18c66a09e1d8');\n",
              "          const dataTable =\n",
              "            await google.colab.kernel.invokeFunction('convertToInteractive',\n",
              "                                                     [key], {});\n",
              "          if (!dataTable) return;\n",
              "\n",
              "          const docLinkHtml = 'Like what you see? Visit the ' +\n",
              "            '<a target=\"_blank\" href=https://colab.research.google.com/notebooks/data_table.ipynb>data table notebook</a>'\n",
              "            + ' to learn more about interactive tables.';\n",
              "          element.innerHTML = '';\n",
              "          dataTable['output_type'] = 'display_data';\n",
              "          await google.colab.output.renderOutput(dataTable, element);\n",
              "          const docLink = document.createElement('div');\n",
              "          docLink.innerHTML = docLinkHtml;\n",
              "          element.appendChild(docLink);\n",
              "        }\n",
              "      </script>\n",
              "    </div>\n",
              "  </div>\n",
              "  "
            ]
          },
          "metadata": {},
          "execution_count": 150
        }
      ]
    },
    {
      "cell_type": "code",
      "source": [
        "plt.figure()\n",
        "plt.pie(np.unique(clis,return_counts=True)[1],labels=['safe','non-safe'],shadow=True)\n",
        "plt.show()"
      ],
      "metadata": {
        "colab": {
          "base_uri": "https://localhost:8080/",
          "height": 303
        },
        "id": "05Bu1ApX_CqU",
        "outputId": "58894d0e-a764-4fa3-f692-0fd1835491f4"
      },
      "execution_count": null,
      "outputs": [
        {
          "output_type": "display_data",
          "data": {
            "text/plain": [
              "<Figure size 504x360 with 1 Axes>"
            ],
            "image/png": "[encoded data removed]"
          },
          "metadata": {}
        }
      ]
    }
  ]
}
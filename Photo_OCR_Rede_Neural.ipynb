{
  "nbformat": 4,
  "nbformat_minor": 0,
  "metadata": {
    "colab": {
      "name": "Photo OCR - Rede Neural.ipynb",
      "provenance": [],
      "collapsed_sections": [],
      "mount_file_id": "1TyLsFF6PjTVD5n0ckP0Ug5dUR7RlZf3S",
      "authorship_tag": "ABX9TyNxA+mlN0gya7hY2SR8nHpM"
    },
    "kernelspec": {
      "name": "python3",
      "display_name": "Python 3"
    },
    "language_info": {
      "name": "python"
    }
  },
  "cells": [
    {
      "cell_type": "code",
      "execution_count": 106,
      "metadata": {
        "id": "Dqi0M2CRMazO"
      },
      "outputs": [],
      "source": [
        "import numpy as np\n",
        "import matplotlib.pyplot as plt\n",
        "\n",
        "import zipfile\n",
        "from skimage import color\n",
        "from skimage import io\n",
        "import os\n",
        "\n",
        "from keras.models import Sequential,Input  #Keras traz uma abstração das redes neurais\n",
        "from keras.layers import Dense\n",
        "from keras.utils import np_utils\n",
        "\n",
        "from sklearn.model_selection import train_test_split\n",
        "\n",
        "import warnings\n",
        "warnings.simplefilter(action='ignore', category=FutureWarning)"
      ]
    },
    {
      "cell_type": "markdown",
      "source": [
        "#Funções para tratamento e obtenção da base de dados para treino e teste da Rede neural"
      ],
      "metadata": {
        "id": "Jodib3K-b592"
      }
    },
    {
      "cell_type": "code",
      "source": [
        "def extract_from_zip(path_zip,path_dest):\n",
        "  arq = zipfile.ZipFile(path_zip)\n",
        "  arq.extractall(path_dest)\n",
        "  arq.close()"
      ],
      "metadata": {
        "id": "7sTBt7gjGTCf"
      },
      "execution_count": 120,
      "outputs": []
    },
    {
      "cell_type": "code",
      "source": [
        "def get_matrix(path_img,like_array):\n",
        "  try:\n",
        "    img = io.imread(path_img)\n",
        "    img_gray = color.rgb2gray(img)\n",
        "    if like_array:\n",
        "      img_gray = img_gray.reshape(1,img_gray.shape[0]*img_gray.shape[1])[0]\n",
        "    return img_gray\n",
        "  except FileNotFoundError:\n",
        "    return -1 #sim, ocorreu um erro"
      ],
      "metadata": {
        "id": "nY1ydwB3Yjnf"
      },
      "execution_count": 121,
      "outputs": []
    },
    {
      "cell_type": "code",
      "source": [
        "def built_targets_matrix(label_counts):\n",
        "\n",
        "  m = sum(label_counts[:,1])\n",
        "  n = len(label_counts)\n",
        "\n",
        "  y = np.zeros((m,n))\n",
        "\n",
        "  ini = 0\n",
        "  for i in label_counts:\n",
        "    y[ini:ini+i[1],i[0]] = 1\n",
        "    ini += i[1]\n",
        "    \n",
        "  return y"
      ],
      "metadata": {
        "id": "UDSujk8hDwNh"
      },
      "execution_count": 122,
      "outputs": []
    },
    {
      "cell_type": "code",
      "source": [
        "def built_grand_matrix_and_targets(path,type_arq,as_array=True): #path da pasta geral\n",
        "  X = []\n",
        "  labels = []\n",
        "  for p in os.listdir(path):\n",
        "    complete_path = os.path.join(path, p)\n",
        "    \n",
        "    count_for_label = get_data_from_direct(complete_path,type_arq,as_array,X)\n",
        "\n",
        "    labels.append([int(p),count_for_label])\n",
        "  \n",
        "  y = built_targets_matrix(np.array(labels))\n",
        "\n",
        "  return np.array(X),y"
      ],
      "metadata": {
        "id": "NE31Qd-z7_mb"
      },
      "execution_count": 123,
      "outputs": []
    },
    {
      "cell_type": "code",
      "source": [
        "def get_data_from_direct(path,type_arq,as_array,X):\n",
        "\n",
        "  for image_name in os.listdir(path):\n",
        "      \n",
        "      if not type_arq in image_name: continue \n",
        "      input_path = os.path.join(path, image_name)\n",
        "      data = get_matrix(input_path,as_array)\n",
        "      if type(data) != np.ndarray:continue\n",
        "\n",
        "      X.append(data)\n",
        "  \n",
        "  return len(os.listdir(path))"
      ],
      "metadata": {
        "id": "o2hk8uc6su0m"
      },
      "execution_count": 124,
      "outputs": []
    },
    {
      "cell_type": "markdown",
      "source": [
        "Sliding windows"
      ],
      "metadata": {
        "id": "u1vgNU1qcBcq"
      }
    },
    {
      "cell_type": "code",
      "source": [
        "def sliding_windows(m_img,m_pixels,n_pixels,steps): #mxn matrix\n",
        "\n",
        "  ini_i = 0\n",
        "  for i in range(m_pixels-1,m_img.shape[0],steps):\n",
        "    ini_j = 0\n",
        "    for j in range(n_pixels-1,m_img.shape[1],steps):\n",
        "      print(m_img[ini_i:i+1,ini_j:j+1].shape)\n",
        "      # Código para decidir oq fazer com o slice pego da matriz\n",
        "      ini_j += steps\n",
        "\n",
        "    ini_i += steps"
      ],
      "metadata": {
        "id": "vRLBl_BdcBCU"
      },
      "execution_count": 125,
      "outputs": []
    },
    {
      "cell_type": "markdown",
      "source": [
        "#Rede Neural"
      ],
      "metadata": {
        "id": "9Xi939X9t33l"
      }
    },
    {
      "cell_type": "code",
      "source": [
        "from keras.backend import argmax\n",
        "class neural_network:\n",
        "  def __init__(self,input_layer_dim,X,y):\n",
        "    self.model = Sequential()\n",
        "    self.have_input = False\n",
        "    self.input_layer_dim = input_layer_dim\n",
        "    self.X_train,self.X_test,self.y_train,self.y_test = train_test_split(X,y,test_size = 0.3)\n",
        "  \n",
        "  def summary(self):\n",
        "    return self.model.summary()\n",
        "\n",
        "  def add_layer(self,units_dim,activation_f):\n",
        "    if not self.have_input:\n",
        "      self.model.add(Input(shape=(self.input_layer_dim)))\n",
        "      #self.model.add(Dense(units=units_dim,input_dim = self.input_layer_dim, activation = activation_f))\n",
        "      self.have_input = True\n",
        "    #else:\n",
        "    self.model.add(Dense(units=units_dim,activation = activation_f))\n",
        "  \n",
        "  def train_network(self,epochs):\n",
        "    self.model.compile(optimizer='sgd',loss='categorical_crossentropy',\n",
        "                       metrics=['accuracy'])\n",
        "\n",
        "    self.model.fit(self.X_train,self.y_train,epochs=epochs,\n",
        "                   validation_data=(self.X_test,self.y_test))\n",
        "  \n",
        "  def predict_class(self,example):\n",
        "    return argmax(self.model.predict(example)).numpy()[0]\n"
      ],
      "metadata": {
        "id": "5kcDkOHh1DW_"
      },
      "execution_count": 126,
      "outputs": []
    },
    {
      "cell_type": "markdown",
      "source": [
        "#Construindo a rede e executando testes"
      ],
      "metadata": {
        "id": "ewBf5GiCt_3S"
      }
    },
    {
      "cell_type": "code",
      "source": [
        "extract_from_zip('/content/drive/MyDrive/training_set.zip','/content/set')"
      ],
      "metadata": {
        "id": "MYpRUC0F-Uvy"
      },
      "execution_count": 127,
      "outputs": []
    },
    {
      "cell_type": "code",
      "source": [
        "X,y = built_grand_matrix_and_targets('/content/set','.jpg')\n",
        "print(f'{X.shape};{y.shape}')"
      ],
      "metadata": {
        "colab": {
          "base_uri": "https://localhost:8080/"
        },
        "id": "tn1F9amBNNMs",
        "outputId": "ade179f8-40fb-4289-ff0e-4df4c725b299"
      },
      "execution_count": 128,
      "outputs": [
        {
          "output_type": "stream",
          "name": "stdout",
          "text": [
            "(42000, 784);(42000, 10)\n"
          ]
        }
      ]
    },
    {
      "cell_type": "code",
      "source": [
        "rn = neural_network(28*28,X,y)\n",
        "\n",
        "rn.add_layer(400,'sigmoid')\n",
        "rn.add_layer(80,'sigmoid')\n",
        "rn.add_layer(10,'sigmoid')\n",
        "\n",
        "rn.summary()"
      ],
      "metadata": {
        "colab": {
          "base_uri": "https://localhost:8080/"
        },
        "id": "osJXYGEnNNEh",
        "outputId": "93e178b5-f889-45d7-b239-b7bc3efd6934"
      },
      "execution_count": 129,
      "outputs": [
        {
          "output_type": "stream",
          "name": "stdout",
          "text": [
            "Model: \"sequential_6\"\n",
            "_________________________________________________________________\n",
            " Layer (type)                Output Shape              Param #   \n",
            "=================================================================\n",
            " dense_17 (Dense)            (None, 400)               314000    \n",
            "                                                                 \n",
            " dense_18 (Dense)            (None, 80)                32080     \n",
            "                                                                 \n",
            " dense_19 (Dense)            (None, 10)                810       \n",
            "                                                                 \n",
            "=================================================================\n",
            "Total params: 346,890\n",
            "Trainable params: 346,890\n",
            "Non-trainable params: 0\n",
            "_________________________________________________________________\n"
          ]
        }
      ]
    },
    {
      "cell_type": "code",
      "source": [
        "rn.train_network(epochs=10)"
      ],
      "metadata": {
        "colab": {
          "base_uri": "https://localhost:8080/"
        },
        "id": "xmmX2Cv3NsWf",
        "outputId": "e0288146-56ad-4ff9-9b6d-044beb133e33"
      },
      "execution_count": 130,
      "outputs": [
        {
          "output_type": "stream",
          "name": "stdout",
          "text": [
            "Epoch 1/10\n",
            "919/919 [==============================] - 5s 6ms/step - loss: 1.3641 - accuracy: 0.7221 - val_loss: 0.8219 - val_accuracy: 0.8435\n",
            "Epoch 2/10\n",
            "919/919 [==============================] - 5s 5ms/step - loss: 0.6353 - accuracy: 0.8716 - val_loss: 0.5239 - val_accuracy: 0.8834\n",
            "Epoch 3/10\n",
            "919/919 [==============================] - 5s 5ms/step - loss: 0.4469 - accuracy: 0.8958 - val_loss: 0.4160 - val_accuracy: 0.8963\n",
            "Epoch 4/10\n",
            "919/919 [==============================] - 5s 5ms/step - loss: 0.3657 - accuracy: 0.9100 - val_loss: 0.3603 - val_accuracy: 0.9068\n",
            "Epoch 5/10\n",
            "919/919 [==============================] - 4s 5ms/step - loss: 0.3182 - accuracy: 0.9182 - val_loss: 0.3281 - val_accuracy: 0.9142\n",
            "Epoch 6/10\n",
            "919/919 [==============================] - 4s 5ms/step - loss: 0.2864 - accuracy: 0.9248 - val_loss: 0.3079 - val_accuracy: 0.9172\n",
            "Epoch 7/10\n",
            "919/919 [==============================] - 5s 5ms/step - loss: 0.2617 - accuracy: 0.9312 - val_loss: 0.2839 - val_accuracy: 0.9225\n",
            "Epoch 8/10\n",
            "919/919 [==============================] - 5s 5ms/step - loss: 0.2433 - accuracy: 0.9360 - val_loss: 0.2712 - val_accuracy: 0.9248\n",
            "Epoch 9/10\n",
            "919/919 [==============================] - 5s 5ms/step - loss: 0.2285 - accuracy: 0.9393 - val_loss: 0.2636 - val_accuracy: 0.9275\n",
            "Epoch 10/10\n",
            "919/919 [==============================] - 5s 5ms/step - loss: 0.2154 - accuracy: 0.9426 - val_loss: 0.2473 - val_accuracy: 0.9329\n"
          ]
        }
      ]
    },
    {
      "cell_type": "code",
      "source": [
        "im = get_matrix('/content/img_3.jpg',False)\n",
        "plt.gray()\n",
        "plt.imshow(im)"
      ],
      "metadata": {
        "colab": {
          "base_uri": "https://localhost:8080/",
          "height": 283
        },
        "id": "nmzd5O9THrG-",
        "outputId": "ae9cce82-73de-424c-de11-b7b6acc73c80"
      },
      "execution_count": 107,
      "outputs": [
        {
          "output_type": "execute_result",
          "data": {
            "text/plain": [
              "<matplotlib.image.AxesImage at 0x7fac0dbefc50>"
            ]
          },
          "metadata": {},
          "execution_count": 107
        },
        {
          "output_type": "display_data",
          "data": {
            "text/plain": [
              "<Figure size 432x288 with 1 Axes>"
            ],
            "image/png": "[encoded data removed]"
          },
          "metadata": {
            "needs_background": "light"
          }
        }
      ]
    },
    {
      "cell_type": "code",
      "source": [
        "rn.predict_class(im.reshape(1,28*28))"
      ],
      "metadata": {
        "colab": {
          "base_uri": "https://localhost:8080/"
        },
        "id": "Gqp5HeJwO5rN",
        "outputId": "f888636c-3c38-47cb-c0c3-ea1fc914001a"
      },
      "execution_count": 108,
      "outputs": [
        {
          "output_type": "execute_result",
          "data": {
            "text/plain": [
              "9"
            ]
          },
          "metadata": {},
          "execution_count": 108
        }
      ]
    }
  ]
}